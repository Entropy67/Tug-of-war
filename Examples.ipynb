{
 "cells": [
  {
   "cell_type": "markdown",
   "metadata": {},
   "source": [
    "# Examples to use the tug-of-war package\n",
    "\n",
    "In this notebook we present several examples of simulating the antigen extraction process using our tug-of-war package."
   ]
  },
  {
   "cell_type": "code",
   "execution_count": 3,
   "metadata": {},
   "outputs": [],
   "source": [
    "import numpy as np\n",
    "from matplotlib import pyplot as plt\n",
    "import script.brownian.theory as th\n",
    "import script.brownian.scan_parameter as ps\n",
    "import script.brownian.system as sb\n",
    "import script.brownian.utilities as utl\n",
    "from importlib import reload"
   ]
  },
  {
   "cell_type": "code",
   "execution_count": 18,
   "metadata": {},
   "outputs": [
    {
     "name": "stdout",
     "output_type": "stream",
     "text": [
      "prm info:\n",
      "tm:\t10000000.0\n",
      "dt:\t1.0\n",
      "record_time:\t1\n",
      "time_unit:\t0.01\n",
      "potential:\tlinear-cubic\n",
      "scheme:\tc\n",
      "r:\t0.001\n",
      "f0:\t20\n",
      "beta:\t1.0\n",
      "tL:\t100\n",
      "tH:\t100\n",
      "fH:\t10\n",
      "fL:\t0\n",
      "tS:\t1000\n",
      "xb1:\t1.5\n",
      "xb2:\t2.0\n",
      "Eb1:\t10\n",
      "Eb2:\t10\n"
     ]
    }
   ],
   "source": [
    "\n",
    "prm = utl.getDefaultPrm().copy()\n",
    "prm[\"Eb1\"] = 10\n",
    "prm[\"Eb2\"] = 10\n",
    "prm[\"f0\"] = 20\n",
    "prm[\"xb1\"] = 1.5\n",
    "prm[\"scheme\"] = 'c' ### constant force\n",
    "prm[\"potential\"] = \"linear-cubic\"\n",
    "\n",
    "utl.printPrm(prm)"
   ]
  },
  {
   "cell_type": "markdown",
   "metadata": {},
   "source": [
    "## Simulate a single rupture event"
   ]
  },
  {
   "cell_type": "code",
   "execution_count": 3,
   "metadata": {},
   "outputs": [
    {
     "name": "stdout",
     "output_type": "stream",
     "text": [
      "simulation finished\n",
      ">> bond breaking? :  True\n",
      ">> which bond was broken? (1: APC-Ag; 2: BCR-Ag):  2\n",
      ">> rupture time:  2908.0 us\n",
      ">> rupture force:  20.0 pN\n"
     ]
    }
   ],
   "source": [
    "sys = sb.System(prm)\n",
    "sys.output= True\n",
    "sys.manyRun = False\n",
    "flag, p, tend, fend = sys.run1()\n",
    "print(\"simulation finished\")\n",
    "print(\">> bond breaking? : \", flag)\n",
    "print(\">> which bond was broken? (1: APC-Ag; 2: BCR-Ag): \", p)\n",
    "print(\">> rupture time: \", tend, \"us\")\n",
    "print(\">> rupture force: \", fend, \"pN\")"
   ]
  },
  {
   "cell_type": "markdown",
   "metadata": {},
   "source": [
    "Now we plot the rupture trajectory"
   ]
  },
  {
   "cell_type": "code",
   "execution_count": 10,
   "metadata": {},
   "outputs": [
    {
     "data": {
      "image/png": "[encoded data removed]",
      "text/plain": [
       "<Figure size 350x300 with 2 Axes>"
      ]
     },
     "metadata": {
      "needs_background": "light"
     },
     "output_type": "display_data"
    }
   ],
   "source": [
    "import matplotlib.pyplot as plt\n",
    "from mpl_toolkits.axes_grid1 import make_axes_locatable\n",
    "from script.plot import Plot\n",
    "### plot the trajectory\n",
    "\n",
    "x1_trajs = sys.x1_traj.copy()\n",
    "x2_trajs = sys.x2_traj.copy()\n",
    "\n",
    "labelsize=11\n",
    "\n",
    "pt = Plot(sys)\n",
    "pt.coords=\"x1x2\"\n",
    "ax, hmap = pt.plotPotential(x_traj=x1_trajs, y_traj=x2_trajs, colorful=False, traj_color=\"k\",\n",
    "                      plotTraj=False, \n",
    "                      return_ax=True,\n",
    "                      label_point=False,\n",
    "                     sample_rate=300, figsize=(3.5,3))\n",
    "\n",
    "step_sample = 0\n",
    "ax.plot(x1_trajs[-step_sample:], x2_trajs[-step_sample:],'-k', alpha=0.7, linewidth=1.)\n",
    "#ax.plot(x1_trajs_f[-step_sample:], x2_trajs_f[-step_sample:],'-r', alpha=1, linewidth=1.)\n",
    "\n",
    "#pt.plotPotential(overlay=True,colorful=False, traj_color=\"k\")\n",
    "ax.set( xlim=(-1, 2), ylim=(-1,3), xticks=[-1, 0,1,2])\n",
    "ax.set_xlabel(\"$x_a$ (nm)\", fontsize=labelsize)\n",
    "ax.set_ylabel(\"$x_b$ (nm)\", fontsize=labelsize)\n",
    "#ax.set(title=\"F=\"+str(sys.force_gen.f0)+\"pN\")\n",
    "\n",
    "cbar_ticks=[-60, -20, 20]\n",
    "cbar = plt.colorbar(hmap, ticks=cbar_ticks)\n",
    "cbar.ax.set_yticklabels(cbar_ticks, fontsize=8)\n",
    "cbar.ax.set_title(\"U [k$_B$T]\", fontsize=8)\n",
    "if False:\n",
    "    xmin = -1.0*sys.bd1.x1\n",
    "    xmax = 1.5*sys.bd1.x1\n",
    "    ymin = -1.0*sys.bd2.x1\n",
    "    ymax = 1.5*sys.bd2.x1\n",
    "\n",
    "    #ax.hlines(y=fprm[\"xb2\"]/2, xmin=xmin, xmax=xmax , color='k', linestyle='dotted')\n",
    "    #ax.vlines(x=fprm[\"xb1\"]/2, ymin=ymin, ymax=ymax , color='k', linestyle='dotted')\n",
    "    divider = make_axes_locatable(ax)\n",
    "    axHistx = divider.append_axes(\"top\", size=0.5, pad=0.15, sharex=ax,)\n",
    "    axHisty = divider.append_axes(\"right\", size=0.5, pad=0.1, sharey=ax)\n",
    "\n",
    "    # make some labels invisible\n",
    "    axHistx.xaxis.set_tick_params(labelbottom=False)\n",
    "    axHisty.yaxis.set_tick_params(labelleft=False)\n",
    "\n",
    "\n",
    "\n",
    "    # now determine nice limits by hand:\n",
    "    binwidth = 0.15\n",
    "\n",
    "    limx1 = (int((xmax-xmin)/binwidth)+1)*binwidth\n",
    "    limx2 = (int((ymax-ymin)/binwidth) + 1)*binwidth\n",
    "\n",
    "    bins1 = np.arange(-limx1, limx1 + binwidth, binwidth)\n",
    "    bins2 = np.arange(-limx2, limx2 + binwidth, binwidth)\n",
    "    axHistx.hist(sys.x1List, bins=bins1, ec=\"w\", color=\"gray\")\n",
    "    axHisty.hist(sys.x2List, bins=bins2, orientation='horizontal', ec=\"w\", color=\"gray\")\n",
    "\n",
    "\n",
    "    axHistx.set_ylabel(\"count\", fontsize=labelsize)\n",
    "    axHisty.set_xlabel(\"count\", fontsize=labelsize)\n",
    "    axHistx.set(ylim=(0, 200))\n",
    "    axHisty.set(xlim=(0, 200))\n",
    "\n",
    "    axHistx.set(title=\"F=\"+str(sys.force_gen.f0)+\"pN\")\n",
    "    axHisty.text(x=20, y=-0.7, s=\"{:.1f}%\".format(100*len(sys.x2List)/(len(sys.x1List)+len(sys.x2List))), fontsize=9)\n",
    "    axHistx.text(x=0.7*sys.bd1.x1, y=20, s=\"{:.1f}%\".format(100-100*len(sys.x2List)/(len(sys.x1List)+len(sys.x2List))), fontsize=9)\n",
    "    \n",
    "    #axHisty.text(x=-0.02, y=-0.5, s=\"<0.01%\")\n",
    "plt.tight_layout()\n",
    "plt.show()\n",
    "\n",
    "#print(len(sys.x2List)/(len(sys.x1List)+len(sys.x2List)))\n",
    "\n",
    "\n"
   ]
  },
  {
   "cell_type": "markdown",
   "metadata": {},
   "source": [
    "## Simulation many trajectories to get extraction chance"
   ]
  },
  {
   "cell_type": "code",
   "execution_count": 27,
   "metadata": {},
   "outputs": [
    {
     "name": "stdout",
     "output_type": "stream",
     "text": [
      "progress: |||||||||||||||||||99%\n",
      "count\tf\teta\tend\n",
      "1000\t15.00\t0.214\t3334.94\n",
      "simulation finished\n",
      ">> simulated extraction chance :  0.214\n",
      ">> average rupture time:  3334.942\n"
     ]
    }
   ],
   "source": [
    "prm[\"f0\"] = 15\n",
    "sys = sb.System(prm)\n",
    "sys.output= True\n",
    "sys.manyRun = False\n",
    "sys.numSample = 1000\n",
    "sys.run()\n",
    "print(\"simulation finished\")\n",
    "print(\">> simulated extraction chance : \", sys.eta)\n",
    "print(\">> average rupture time: \", sys.tend)"
   ]
  },
  {
   "cell_type": "code",
   "execution_count": 29,
   "metadata": {},
   "outputs": [
    {
     "name": "stdout",
     "output_type": "stream",
     "text": [
      "theoretical results: \n",
      ">> extraction chance:  0.19582654559050616\n",
      ">> rupture time:  2918.5925551629466\n"
     ]
    }
   ],
   "source": [
    "import script.theory as theory\n",
    "reload(theory)\n",
    "eta = theory.extRatio_linear_cubic(prm[\"Eb1\"],prm[\"Eb2\"], prm[\"f0\"], prm[\"xb1\"], prm[\"xb2\"], \n",
    "                                   output=True, Eb_min=1, m=1)[0]\n",
    "tend = theory.tau_linear_cubic(prm[\"xb1\"], prm[\"xb2\"],prm[\"Eb1\"],prm[\"Eb2\"], prm[\"f0\"],\n",
    "                                 output=True, Eb_min=1, m=1)[2]\n",
    "\n",
    "print(\"theoretical results: \")\n",
    "print(\">> extraction chance: \", eta)\n",
    "print(\">> rupture time: \", tend)"
   ]
  },
  {
   "cell_type": "markdown",
   "metadata": {},
   "source": [
    "We can see the simulation results are close to the analytical solution. "
   ]
  },
  {
   "cell_type": "markdown",
   "metadata": {},
   "source": [
    "# Scan parameters to get the discrimination curve"
   ]
  },
  {
   "cell_type": "code",
   "execution_count": null,
   "metadata": {},
   "outputs": [],
   "source": [
    "sys = sb.System(prm)\n",
    "sys.output= False\n",
    "sys.manyRun = False\n",
    "sys.numSample= 1000"
   ]
  },
  {
   "cell_type": "code",
   "execution_count": 14,
   "metadata": {},
   "outputs": [
    {
     "name": "stdout",
     "output_type": "stream",
     "text": [
      "Eb2 \teta\ttend\tfend\n",
      "progress: |||||||||||||||||||99%\n",
      "count\tf\teta\tend\n",
      "1000\t20.00\t0.142\t1025.08\n",
      "10.000\t0.142\t1025.078\t20.000\n",
      "progress: |||||||||||||||||||99%\n",
      "count\tf\teta\tend\n",
      "1000\t20.00\t0.264\t1694.98\n",
      "11.000\t0.264\t1694.979\t20.000\n",
      "progress: |||||||||||||||||||99%\n",
      "count\tf\teta\tend\n",
      "1000\t20.00\t0.434\t2344.89\n",
      "12.000\t0.434\t2344.892\t20.000\n",
      "progress: |||||||||||||||||||99%\n",
      "count\tf\teta\tend\n",
      "1000\t20.00\t0.630\t3260.54\n",
      "13.000\t0.630\t3260.538\t20.000\n",
      "progress: |||||||||||||||||||99%\n",
      "count\tf\teta\tend\n",
      "1000\t20.00\t0.780\t3876.62\n",
      "14.000\t0.780\t3876.622\t20.000\n",
      "progress: |||||||||||||||||||99%\n",
      "count\tf\teta\tend\n",
      "1000\t20.00\t0.902\t4575.36\n",
      "15.000\t0.902\t4575.361\t20.000\n",
      "progress: |||||||||||||||||||99%\n",
      "count\tf\teta\tend\n",
      "1000\t20.00\t0.938\t4721.21\n",
      "16.000\t0.938\t4721.213\t20.000\n",
      "progress: |||||||||||||||||||99%\n",
      "count\tf\teta\tend\n",
      "1000\t20.00\t0.975\t5059.63\n",
      "17.000\t0.975\t5059.631\t20.000\n",
      "progress: |||||||||||||||||||99%\n",
      "count\tf\teta\tend\n",
      "1000\t20.00\t0.991\t5151.22\n",
      "18.000\t0.991\t5151.220\t20.000\n",
      "progress: |||||||||||||||||||99%\n",
      "count\tf\teta\tend\n",
      "1000\t20.00\t0.998\t5230.76\n",
      "19.000\t0.998\t5230.758\t20.000\n",
      "progress: |||||||||||||||||||99%\n",
      "count\tf\teta\tend\n",
      "1000\t20.00\t0.999\t5096.06\n",
      "20.000\t0.999\t5096.059\t20.000\n"
     ]
    }
   ],
   "source": [
    "scanner= ps.Scan_prm(sto=sys)\n",
    "\n",
    "scanner.run(\"Eb2\", np.linspace(10, 20, 11))"
   ]
  },
  {
   "cell_type": "markdown",
   "metadata": {},
   "source": [
    "On the other hand, we can calculate the extraction chance based on our analytical expression"
   ]
  },
  {
   "cell_type": "code",
   "execution_count": 30,
   "metadata": {},
   "outputs": [],
   "source": [
    "eblist = np.linspace(10, 22, 100)\n",
    "etalist = []\n",
    "for eb in eblist:\n",
    "    eta = theory.extRatio_linear_cubic(prm[\"Eb1\"],eb, 20, prm[\"xb1\"], prm[\"xb2\"], \n",
    "                                   output=True, Eb_min=1, m=1)[0]\n",
    "    etalist.append(eta)"
   ]
  },
  {
   "cell_type": "code",
   "execution_count": 37,
   "metadata": {},
   "outputs": [
    {
     "data": {
      "image/png": "[encoded data removed]",
      "text/plain": [
       "<Figure size 450x300 with 1 Axes>"
      ]
     },
     "metadata": {
      "needs_background": "light"
     },
     "output_type": "display_data"
    }
   ],
   "source": [
    "### plot the discrimination curve\n",
    "fig, ax = plt.subplots(figsize=(3, 2), dpi=150)\n",
    "plt.plot(scanner.prm_list, scanner.etalist, 'ok', fillstyle='none')\n",
    "plt.plot(eblist, etalist, '-k')\n",
    "plt.ylim(-0.05, 1.05)\n",
    "plt.xlim(5, 22)\n",
    "plt.xlabel(\"BCR-Ag affinity, (kT)\")\n",
    "plt.ylabel(\"Extraction chance\")\n",
    "plt.legend([\"Simulation\", \"Analytical results\"], fontsize=8)\n",
    "plt.show()"
   ]
  },
  {
   "cell_type": "markdown",
   "metadata": {},
   "source": [
    "## Simulate GC evolution"
   ]
  },
  {
   "cell_type": "code",
   "execution_count": 36,
   "metadata": {},
   "outputs": [],
   "source": [
    "import script.evolution.model.GC as gc\n",
    "import script.evolution.model.prm as prm\n",
    "import script.evolution.model.manyRun as mr\n",
    "reload(gc)\n",
    "gc0 = gc.GC(prm=prm.prm_list)"
   ]
  },
  {
   "cell_type": "code",
   "execution_count": 37,
   "metadata": {},
   "outputs": [
    {
     "name": "stdout",
     "output_type": "stream",
     "text": [
      "Info: finished!|||||||||||||||100%\n"
     ]
    },
    {
     "data": {
      "text/plain": [
       "True"
      ]
     },
     "execution_count": 37,
     "metadata": {},
     "output_type": "execute_result"
    }
   ],
   "source": [
    "gc0.run(100)"
   ]
  },
  {
   "cell_type": "code",
   "execution_count": 38,
   "metadata": {},
   "outputs": [
    {
     "data": {
      "image/png": "[encoded data removed]",
      "text/plain": [
       "<Figure size 400x300 with 1 Axes>"
      ]
     },
     "metadata": {
      "needs_background": "light"
     },
     "output_type": "display_data"
    }
   ],
   "source": [
    "ax = gc0.plotQty(\"e\", filling=True)"
   ]
  },
  {
   "cell_type": "code",
   "execution_count": 28,
   "metadata": {},
   "outputs": [],
   "source": [
    "mr0 = mr.manyRun(prm=prm.prm_list)"
   ]
  },
  {
   "cell_type": "code",
   "execution_count": 30,
   "metadata": {},
   "outputs": [
    {
     "name": "stdout",
     "output_type": "stream",
     "text": [
      "manyRun: check parameter: f=0.000000 , xa= 1.500000\n",
      ">>>> starting GC 0, last run: mr= 0.000, std=0.000, eta=0.000, tm=0.0, success=0\n",
      "Info: finished!|||||||||||||||100%\n",
      ">>>> starting GC 1, last run: mr= -0.003, std=0.945, eta=0.973, tm=300.0, success=1\n",
      "Info: finished!|||||||||||||||100%\n",
      ">>>> starting GC 2, last run: mr= 0.001, std=0.702, eta=0.977, tm=300.0, success=2\n",
      "Info: finished!|||||||||||||||100%\n",
      ">>>> starting GC 3, last run: mr= 0.003, std=0.808, eta=0.960, tm=300.0, success=3\n",
      "Info: finished!|||||||||||||||100%\n",
      ">>>> starting GC 4, last run: mr= 0.005, std=0.786, eta=0.977, tm=300.0, success=4\n",
      "Info: finished!|||||||||||||||100%\n",
      "\u001b[30mfinished! success=5, dead=0, percen=1.000\t\u001b[0m\n",
      "many run: summary: surv_prob = 1.0000\t, Eb = 16.2641.732\t, tau=0.257\n"
     ]
    },
    {
     "data": {
      "text/plain": [
       "True"
      ]
     },
     "execution_count": 30,
     "metadata": {},
     "output_type": "execute_result"
    }
   ],
   "source": [
    "mr0.sample_rate=1\n",
    "mr0.num_run = 5\n",
    "mr0.run(output=True)"
   ]
  },
  {
   "cell_type": "code",
   "execution_count": 44,
   "metadata": {},
   "outputs": [
    {
     "name": "stdout",
     "output_type": "stream",
     "text": [
      "Items held:\n",
      "       feedback: \t\u001b[35mFalse\u001b[0m\t\t         output: \t\u001b[35mTrue\u001b[0m\n",
      "       randomAb: \t\u001b[35mTrue\u001b[0m\t\t        useWeek: \t\u001b[35mFalse\u001b[0m\n",
      "         useSim: \t\u001b[35mTrue\u001b[0m\t\t          debug: \t\u001b[35mFalse\u001b[0m\n",
      "        useBell: \t\u001b[35mFalse\u001b[0m\t\t       goodDiff: \t\u001b[35mFalse\u001b[0m\n",
      "    useBinomial: \t\u001b[35mFalse\u001b[0m\t\t       dump_eta: \t\u001b[35mFalse\u001b[0m\n",
      "   no_selection: \t\u001b[35mFalse\u001b[0m\t\tdynamical_force: \t\u001b[35mFalse\u001b[0m\n",
      "          death: \t\u001b[35mrandom\u001b[0m\t\t    update_rule: \t\u001b[35mtopK\u001b[0m\n",
      "      potential: \t\u001b[35mlinear-cubic\u001b[0m\t\t            cag: \t\u001b[35m100\u001b[0m\n",
      "             Eb: \t\u001b[35m14\u001b[0m\t\t             Ea: \t\u001b[35m14\u001b[0m\n",
      "            xb1: \t\u001b[35m1.5\u001b[0m\t\t            xb2: \t\u001b[35m2.0\u001b[0m\n",
      "             Td: \t\u001b[35m0\u001b[0m\t\t             Tp: \t\u001b[35m1000\u001b[0m\n",
      "         cutoff: \t\u001b[35m200\u001b[0m\t\t             w0: \t\u001b[35m8\u001b[0m\n",
      "             pd: \t\u001b[35m0.05\u001b[0m\t\t             pa: \t\u001b[35m0.7\u001b[0m\n",
      "             pm: \t\u001b[35m0.5\u001b[0m\t\t          pm_xb: \t\u001b[35m0.5\u001b[0m\n",
      "             Nc: \t\u001b[35m2000\u001b[0m\t\t            Npc: \t\u001b[35m5000\u001b[0m\n",
      "             N0: \t\u001b[35m1000\u001b[0m\t\t            Nab: \t\u001b[35m100\u001b[0m\n",
      "             dE: \t\u001b[35m0.1\u001b[0m\t\t            dxb: \t\u001b[35m0.1\u001b[0m\n",
      "              f: \t\u001b[35m0\u001b[0m\t\t             df: \t\u001b[35m0\u001b[0m\n",
      "           eta0: \t\u001b[35m0.5\u001b[0m\t\t             tm: \t\u001b[35m300\u001b[0m\n",
      "              r: \t\u001b[35m0.0001\u001b[0m\t\t         Eb_min: \t\u001b[35m2.0\u001b[0m\n",
      "       eta_file: \t\u001b[35mfixedEb\u001b[0m\t\t"
     ]
    }
   ],
   "source": [
    "import script.evolution.model.utilities as utl_evo\n",
    "reload(utl_evo)\n",
    "utl_evo.print_dict(prm.prm_list, 2)"
   ]
  },
  {
   "cell_type": "code",
   "execution_count": null,
   "metadata": {},
   "outputs": [],
   "source": []
  }
 ],
 "metadata": {
  "kernelspec": {
   "display_name": "Python 3",
   "language": "python",
   "name": "python3"
  },
  "language_info": {
   "codemirror_mode": {
    "name": "ipython",
    "version": 3
   },
   "file_extension": ".py",
   "mimetype": "text/x-python",
   "name": "python",
   "nbconvert_exporter": "python",
   "pygments_lexer": "ipython3",
   "version": "3.6.4"
  }
 },
 "nbformat": 4,
 "nbformat_minor": 2
}
